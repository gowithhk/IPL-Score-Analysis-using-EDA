{
  "nbformat": 4,
  "nbformat_minor": 0,
  "metadata": {
    "colab": {
      "name": "IPL Data Analysis using EDA.ipynb",
      "provenance": [],
      "collapsed_sections": []
    },
    "kernelspec": {
      "name": "python3",
      "display_name": "Python 3"
    },
    "language_info": {
      "name": "python"
    }
  },
  "cells": [
    {
      "cell_type": "markdown",
      "metadata": {
        "id": "SwzGXVeceE1F"
      },
      "source": [
        "**IPL Data Analysis using EDA**"
      ]
    },
    {
      "cell_type": "code",
      "metadata": {
        "id": "wWCqxdCaeDTN"
      },
      "source": [
        "#importing libraries\n",
        "\n",
        "import pandas as pd\n",
        "import numpy as np\n",
        "import matplotlib.pyplot as plt\n",
        "import seaborn as sns\n",
        "%matplotlib inline"
      ],
      "execution_count": 3,
      "outputs": []
    },
    {
      "cell_type": "code",
      "metadata": {
        "colab": {
          "base_uri": "https://localhost:8080/",
          "height": 530
        },
        "id": "7ATyv-JseNHX",
        "outputId": "2a5c57b7-8e0a-430c-c236-924dc2d6db67"
      },
      "source": [
        "#importing the dataset\n",
        "data = pd.read_csv(\"matches.csv\")\n",
        "data.head(10)"
      ],
      "execution_count": 4,
      "outputs": [
        {
          "output_type": "execute_result",
          "data": {
            "text/html": [
              "<div>\n",
              "<style scoped>\n",
              "    .dataframe tbody tr th:only-of-type {\n",
              "        vertical-align: middle;\n",
              "    }\n",
              "\n",
              "    .dataframe tbody tr th {\n",
              "        vertical-align: top;\n",
              "    }\n",
              "\n",
              "    .dataframe thead th {\n",
              "        text-align: right;\n",
              "    }\n",
              "</style>\n",
              "<table border=\"1\" class=\"dataframe\">\n",
              "  <thead>\n",
              "    <tr style=\"text-align: right;\">\n",
              "      <th></th>\n",
              "      <th>id</th>\n",
              "      <th>Season</th>\n",
              "      <th>city</th>\n",
              "      <th>date</th>\n",
              "      <th>team1</th>\n",
              "      <th>team2</th>\n",
              "      <th>toss_winner</th>\n",
              "      <th>toss_decision</th>\n",
              "      <th>result</th>\n",
              "      <th>dl_applied</th>\n",
              "      <th>winner</th>\n",
              "      <th>win_by_runs</th>\n",
              "      <th>win_by_wickets</th>\n",
              "      <th>player_of_match</th>\n",
              "      <th>venue</th>\n",
              "      <th>umpire1</th>\n",
              "      <th>umpire2</th>\n",
              "      <th>umpire3</th>\n",
              "    </tr>\n",
              "  </thead>\n",
              "  <tbody>\n",
              "    <tr>\n",
              "      <th>0</th>\n",
              "      <td>1</td>\n",
              "      <td>IPL-2017</td>\n",
              "      <td>Hyderabad</td>\n",
              "      <td>05-04-2017</td>\n",
              "      <td>Sunrisers Hyderabad</td>\n",
              "      <td>Royal Challengers Bangalore</td>\n",
              "      <td>Royal Challengers Bangalore</td>\n",
              "      <td>field</td>\n",
              "      <td>normal</td>\n",
              "      <td>0</td>\n",
              "      <td>Sunrisers Hyderabad</td>\n",
              "      <td>35</td>\n",
              "      <td>0</td>\n",
              "      <td>Yuvraj Singh</td>\n",
              "      <td>Rajiv Gandhi International Stadium, Uppal</td>\n",
              "      <td>AY Dandekar</td>\n",
              "      <td>NJ Llong</td>\n",
              "      <td>NaN</td>\n",
              "    </tr>\n",
              "    <tr>\n",
              "      <th>1</th>\n",
              "      <td>2</td>\n",
              "      <td>IPL-2017</td>\n",
              "      <td>Pune</td>\n",
              "      <td>06-04-2017</td>\n",
              "      <td>Mumbai Indians</td>\n",
              "      <td>Rising Pune Supergiant</td>\n",
              "      <td>Rising Pune Supergiant</td>\n",
              "      <td>field</td>\n",
              "      <td>normal</td>\n",
              "      <td>0</td>\n",
              "      <td>Rising Pune Supergiant</td>\n",
              "      <td>0</td>\n",
              "      <td>7</td>\n",
              "      <td>SPD Smith</td>\n",
              "      <td>Maharashtra Cricket Association Stadium</td>\n",
              "      <td>A Nand Kishore</td>\n",
              "      <td>S Ravi</td>\n",
              "      <td>NaN</td>\n",
              "    </tr>\n",
              "    <tr>\n",
              "      <th>2</th>\n",
              "      <td>3</td>\n",
              "      <td>IPL-2017</td>\n",
              "      <td>Rajkot</td>\n",
              "      <td>07-04-2017</td>\n",
              "      <td>Gujarat Lions</td>\n",
              "      <td>Kolkata Knight Riders</td>\n",
              "      <td>Kolkata Knight Riders</td>\n",
              "      <td>field</td>\n",
              "      <td>normal</td>\n",
              "      <td>0</td>\n",
              "      <td>Kolkata Knight Riders</td>\n",
              "      <td>0</td>\n",
              "      <td>10</td>\n",
              "      <td>CA Lynn</td>\n",
              "      <td>Saurashtra Cricket Association Stadium</td>\n",
              "      <td>Nitin Menon</td>\n",
              "      <td>CK Nandan</td>\n",
              "      <td>NaN</td>\n",
              "    </tr>\n",
              "    <tr>\n",
              "      <th>3</th>\n",
              "      <td>4</td>\n",
              "      <td>IPL-2017</td>\n",
              "      <td>Indore</td>\n",
              "      <td>08-04-2017</td>\n",
              "      <td>Rising Pune Supergiant</td>\n",
              "      <td>Kings XI Punjab</td>\n",
              "      <td>Kings XI Punjab</td>\n",
              "      <td>field</td>\n",
              "      <td>normal</td>\n",
              "      <td>0</td>\n",
              "      <td>Kings XI Punjab</td>\n",
              "      <td>0</td>\n",
              "      <td>6</td>\n",
              "      <td>GJ Maxwell</td>\n",
              "      <td>Holkar Cricket Stadium</td>\n",
              "      <td>AK Chaudhary</td>\n",
              "      <td>C Shamshuddin</td>\n",
              "      <td>NaN</td>\n",
              "    </tr>\n",
              "    <tr>\n",
              "      <th>4</th>\n",
              "      <td>5</td>\n",
              "      <td>IPL-2017</td>\n",
              "      <td>Bangalore</td>\n",
              "      <td>08-04-2017</td>\n",
              "      <td>Royal Challengers Bangalore</td>\n",
              "      <td>Delhi Daredevils</td>\n",
              "      <td>Royal Challengers Bangalore</td>\n",
              "      <td>bat</td>\n",
              "      <td>normal</td>\n",
              "      <td>0</td>\n",
              "      <td>Royal Challengers Bangalore</td>\n",
              "      <td>15</td>\n",
              "      <td>0</td>\n",
              "      <td>KM Jadhav</td>\n",
              "      <td>M Chinnaswamy Stadium</td>\n",
              "      <td>NaN</td>\n",
              "      <td>NaN</td>\n",
              "      <td>NaN</td>\n",
              "    </tr>\n",
              "    <tr>\n",
              "      <th>5</th>\n",
              "      <td>6</td>\n",
              "      <td>IPL-2017</td>\n",
              "      <td>Hyderabad</td>\n",
              "      <td>09-04-2017</td>\n",
              "      <td>Gujarat Lions</td>\n",
              "      <td>Sunrisers Hyderabad</td>\n",
              "      <td>Sunrisers Hyderabad</td>\n",
              "      <td>field</td>\n",
              "      <td>normal</td>\n",
              "      <td>0</td>\n",
              "      <td>Sunrisers Hyderabad</td>\n",
              "      <td>0</td>\n",
              "      <td>9</td>\n",
              "      <td>Rashid Khan</td>\n",
              "      <td>Rajiv Gandhi International Stadium, Uppal</td>\n",
              "      <td>A Deshmukh</td>\n",
              "      <td>NJ Llong</td>\n",
              "      <td>NaN</td>\n",
              "    </tr>\n",
              "    <tr>\n",
              "      <th>6</th>\n",
              "      <td>7</td>\n",
              "      <td>IPL-2017</td>\n",
              "      <td>Mumbai</td>\n",
              "      <td>09-04-2017</td>\n",
              "      <td>Kolkata Knight Riders</td>\n",
              "      <td>Mumbai Indians</td>\n",
              "      <td>Mumbai Indians</td>\n",
              "      <td>field</td>\n",
              "      <td>normal</td>\n",
              "      <td>0</td>\n",
              "      <td>Mumbai Indians</td>\n",
              "      <td>0</td>\n",
              "      <td>4</td>\n",
              "      <td>N Rana</td>\n",
              "      <td>Wankhede Stadium</td>\n",
              "      <td>Nitin Menon</td>\n",
              "      <td>CK Nandan</td>\n",
              "      <td>NaN</td>\n",
              "    </tr>\n",
              "    <tr>\n",
              "      <th>7</th>\n",
              "      <td>8</td>\n",
              "      <td>IPL-2017</td>\n",
              "      <td>Indore</td>\n",
              "      <td>10-04-2017</td>\n",
              "      <td>Royal Challengers Bangalore</td>\n",
              "      <td>Kings XI Punjab</td>\n",
              "      <td>Royal Challengers Bangalore</td>\n",
              "      <td>bat</td>\n",
              "      <td>normal</td>\n",
              "      <td>0</td>\n",
              "      <td>Kings XI Punjab</td>\n",
              "      <td>0</td>\n",
              "      <td>8</td>\n",
              "      <td>AR Patel</td>\n",
              "      <td>Holkar Cricket Stadium</td>\n",
              "      <td>AK Chaudhary</td>\n",
              "      <td>C Shamshuddin</td>\n",
              "      <td>NaN</td>\n",
              "    </tr>\n",
              "    <tr>\n",
              "      <th>8</th>\n",
              "      <td>9</td>\n",
              "      <td>IPL-2017</td>\n",
              "      <td>Pune</td>\n",
              "      <td>11-04-2017</td>\n",
              "      <td>Delhi Daredevils</td>\n",
              "      <td>Rising Pune Supergiant</td>\n",
              "      <td>Rising Pune Supergiant</td>\n",
              "      <td>field</td>\n",
              "      <td>normal</td>\n",
              "      <td>0</td>\n",
              "      <td>Delhi Daredevils</td>\n",
              "      <td>97</td>\n",
              "      <td>0</td>\n",
              "      <td>SV Samson</td>\n",
              "      <td>Maharashtra Cricket Association Stadium</td>\n",
              "      <td>AY Dandekar</td>\n",
              "      <td>S Ravi</td>\n",
              "      <td>NaN</td>\n",
              "    </tr>\n",
              "    <tr>\n",
              "      <th>9</th>\n",
              "      <td>10</td>\n",
              "      <td>IPL-2017</td>\n",
              "      <td>Mumbai</td>\n",
              "      <td>12-04-2017</td>\n",
              "      <td>Sunrisers Hyderabad</td>\n",
              "      <td>Mumbai Indians</td>\n",
              "      <td>Mumbai Indians</td>\n",
              "      <td>field</td>\n",
              "      <td>normal</td>\n",
              "      <td>0</td>\n",
              "      <td>Mumbai Indians</td>\n",
              "      <td>0</td>\n",
              "      <td>4</td>\n",
              "      <td>JJ Bumrah</td>\n",
              "      <td>Wankhede Stadium</td>\n",
              "      <td>Nitin Menon</td>\n",
              "      <td>CK Nandan</td>\n",
              "      <td>NaN</td>\n",
              "    </tr>\n",
              "  </tbody>\n",
              "</table>\n",
              "</div>"
            ],
            "text/plain": [
              "   id    Season       city  ...         umpire1        umpire2 umpire3\n",
              "0   1  IPL-2017  Hyderabad  ...     AY Dandekar       NJ Llong     NaN\n",
              "1   2  IPL-2017       Pune  ...  A Nand Kishore         S Ravi     NaN\n",
              "2   3  IPL-2017     Rajkot  ...     Nitin Menon      CK Nandan     NaN\n",
              "3   4  IPL-2017     Indore  ...    AK Chaudhary  C Shamshuddin     NaN\n",
              "4   5  IPL-2017  Bangalore  ...             NaN            NaN     NaN\n",
              "5   6  IPL-2017  Hyderabad  ...      A Deshmukh       NJ Llong     NaN\n",
              "6   7  IPL-2017     Mumbai  ...     Nitin Menon      CK Nandan     NaN\n",
              "7   8  IPL-2017     Indore  ...    AK Chaudhary  C Shamshuddin     NaN\n",
              "8   9  IPL-2017       Pune  ...     AY Dandekar         S Ravi     NaN\n",
              "9  10  IPL-2017     Mumbai  ...     Nitin Menon      CK Nandan     NaN\n",
              "\n",
              "[10 rows x 18 columns]"
            ]
          },
          "metadata": {
            "tags": []
          },
          "execution_count": 4
        }
      ]
    },
    {
      "cell_type": "code",
      "metadata": {
        "colab": {
          "base_uri": "https://localhost:8080/"
        },
        "id": "M21tW3dMePcb",
        "outputId": "30ca2db1-eaf0-49b9-8f4e-6479872db3b6"
      },
      "source": [
        "#rows and columns in the dataset\n",
        "data.shape"
      ],
      "execution_count": 5,
      "outputs": [
        {
          "output_type": "execute_result",
          "data": {
            "text/plain": [
              "(756, 18)"
            ]
          },
          "metadata": {
            "tags": []
          },
          "execution_count": 5
        }
      ]
    },
    {
      "cell_type": "code",
      "metadata": {
        "colab": {
          "base_uri": "https://localhost:8080/"
        },
        "id": "KgsyKztnf1vi",
        "outputId": "a48eef77-6802-4768-d3d4-ea54d3cf0d1e"
      },
      "source": [
        "data.info"
      ],
      "execution_count": 6,
      "outputs": [
        {
          "output_type": "execute_result",
          "data": {
            "text/plain": [
              "<bound method DataFrame.info of         id    Season  ...         umpire2                  umpire3\n",
              "0        1  IPL-2017  ...        NJ Llong                      NaN\n",
              "1        2  IPL-2017  ...          S Ravi                      NaN\n",
              "2        3  IPL-2017  ...       CK Nandan                      NaN\n",
              "3        4  IPL-2017  ...   C Shamshuddin                      NaN\n",
              "4        5  IPL-2017  ...             NaN                      NaN\n",
              "..     ...       ...  ...             ...                      ...\n",
              "751  11347  IPL-2019  ...        O Nandan                   S Ravi\n",
              "752  11412  IPL-2019  ...     Nitin Menon                Ian Gould\n",
              "753  11413  IPL-2019  ...             NaN                      NaN\n",
              "754  11414  IPL-2019  ...  Bruce Oxenford  Chettithody Shamshuddin\n",
              "755  11415  IPL-2019  ...       Ian Gould              Nigel Llong\n",
              "\n",
              "[756 rows x 18 columns]>"
            ]
          },
          "metadata": {
            "tags": []
          },
          "execution_count": 6
        }
      ]
    },
    {
      "cell_type": "code",
      "metadata": {
        "colab": {
          "base_uri": "https://localhost:8080/"
        },
        "id": "x57fqInFgHHC",
        "outputId": "e5ce9302-9f63-4745-f387-44642cd3f26b"
      },
      "source": [
        "#Names of all the columns\n",
        "data.columns"
      ],
      "execution_count": 7,
      "outputs": [
        {
          "output_type": "execute_result",
          "data": {
            "text/plain": [
              "Index(['id', 'Season', 'city', 'date', 'team1', 'team2', 'toss_winner',\n",
              "       'toss_decision', 'result', 'dl_applied', 'winner', 'win_by_runs',\n",
              "       'win_by_wickets', 'player_of_match', 'venue', 'umpire1', 'umpire2',\n",
              "       'umpire3'],\n",
              "      dtype='object')"
            ]
          },
          "metadata": {
            "tags": []
          },
          "execution_count": 7
        }
      ]
    },
    {
      "cell_type": "markdown",
      "metadata": {
        "id": "cJy_HL6Jgc-p"
      },
      "source": [
        "**Data Pre-processing**"
      ]
    },
    {
      "cell_type": "code",
      "metadata": {
        "colab": {
          "base_uri": "https://localhost:8080/"
        },
        "id": "niEv6QNIgiDY",
        "outputId": "d5b78ce3-dd2c-4a5d-fa5e-237999627df4"
      },
      "source": [
        "#Finding NaN values\n",
        "data.isna().any()"
      ],
      "execution_count": 8,
      "outputs": [
        {
          "output_type": "execute_result",
          "data": {
            "text/plain": [
              "id                 False\n",
              "Season             False\n",
              "city                True\n",
              "date               False\n",
              "team1              False\n",
              "team2              False\n",
              "toss_winner        False\n",
              "toss_decision      False\n",
              "result             False\n",
              "dl_applied         False\n",
              "winner              True\n",
              "win_by_runs        False\n",
              "win_by_wickets     False\n",
              "player_of_match     True\n",
              "venue              False\n",
              "umpire1             True\n",
              "umpire2             True\n",
              "umpire3             True\n",
              "dtype: bool"
            ]
          },
          "metadata": {
            "tags": []
          },
          "execution_count": 8
        }
      ]
    },
    {
      "cell_type": "code",
      "metadata": {
        "colab": {
          "base_uri": "https://localhost:8080/",
          "height": 297
        },
        "id": "JKD43p1agm5s",
        "outputId": "53d90255-0b55-40e1-e063-87d0c3a1a4c6"
      },
      "source": [
        "#Description of Dataset\n",
        "data.describe()"
      ],
      "execution_count": 9,
      "outputs": [
        {
          "output_type": "execute_result",
          "data": {
            "text/html": [
              "<div>\n",
              "<style scoped>\n",
              "    .dataframe tbody tr th:only-of-type {\n",
              "        vertical-align: middle;\n",
              "    }\n",
              "\n",
              "    .dataframe tbody tr th {\n",
              "        vertical-align: top;\n",
              "    }\n",
              "\n",
              "    .dataframe thead th {\n",
              "        text-align: right;\n",
              "    }\n",
              "</style>\n",
              "<table border=\"1\" class=\"dataframe\">\n",
              "  <thead>\n",
              "    <tr style=\"text-align: right;\">\n",
              "      <th></th>\n",
              "      <th>id</th>\n",
              "      <th>dl_applied</th>\n",
              "      <th>win_by_runs</th>\n",
              "      <th>win_by_wickets</th>\n",
              "    </tr>\n",
              "  </thead>\n",
              "  <tbody>\n",
              "    <tr>\n",
              "      <th>count</th>\n",
              "      <td>756.000000</td>\n",
              "      <td>756.000000</td>\n",
              "      <td>756.000000</td>\n",
              "      <td>756.000000</td>\n",
              "    </tr>\n",
              "    <tr>\n",
              "      <th>mean</th>\n",
              "      <td>1792.178571</td>\n",
              "      <td>0.025132</td>\n",
              "      <td>13.283069</td>\n",
              "      <td>3.350529</td>\n",
              "    </tr>\n",
              "    <tr>\n",
              "      <th>std</th>\n",
              "      <td>3464.478148</td>\n",
              "      <td>0.156630</td>\n",
              "      <td>23.471144</td>\n",
              "      <td>3.387963</td>\n",
              "    </tr>\n",
              "    <tr>\n",
              "      <th>min</th>\n",
              "      <td>1.000000</td>\n",
              "      <td>0.000000</td>\n",
              "      <td>0.000000</td>\n",
              "      <td>0.000000</td>\n",
              "    </tr>\n",
              "    <tr>\n",
              "      <th>25%</th>\n",
              "      <td>189.750000</td>\n",
              "      <td>0.000000</td>\n",
              "      <td>0.000000</td>\n",
              "      <td>0.000000</td>\n",
              "    </tr>\n",
              "    <tr>\n",
              "      <th>50%</th>\n",
              "      <td>378.500000</td>\n",
              "      <td>0.000000</td>\n",
              "      <td>0.000000</td>\n",
              "      <td>4.000000</td>\n",
              "    </tr>\n",
              "    <tr>\n",
              "      <th>75%</th>\n",
              "      <td>567.250000</td>\n",
              "      <td>0.000000</td>\n",
              "      <td>19.000000</td>\n",
              "      <td>6.000000</td>\n",
              "    </tr>\n",
              "    <tr>\n",
              "      <th>max</th>\n",
              "      <td>11415.000000</td>\n",
              "      <td>1.000000</td>\n",
              "      <td>146.000000</td>\n",
              "      <td>10.000000</td>\n",
              "    </tr>\n",
              "  </tbody>\n",
              "</table>\n",
              "</div>"
            ],
            "text/plain": [
              "                 id  dl_applied  win_by_runs  win_by_wickets\n",
              "count    756.000000  756.000000   756.000000      756.000000\n",
              "mean    1792.178571    0.025132    13.283069        3.350529\n",
              "std     3464.478148    0.156630    23.471144        3.387963\n",
              "min        1.000000    0.000000     0.000000        0.000000\n",
              "25%      189.750000    0.000000     0.000000        0.000000\n",
              "50%      378.500000    0.000000     0.000000        4.000000\n",
              "75%      567.250000    0.000000    19.000000        6.000000\n",
              "max    11415.000000    1.000000   146.000000       10.000000"
            ]
          },
          "metadata": {
            "tags": []
          },
          "execution_count": 9
        }
      ]
    },
    {
      "cell_type": "code",
      "metadata": {
        "colab": {
          "base_uri": "https://localhost:8080/"
        },
        "id": "GNVu7wNshlJB",
        "outputId": "e7f5722f-d06b-4399-c19a-8673e7672e5b"
      },
      "source": [
        "#How many matches (in total) were played according to the dataset?\n",
        "data['id'].count()"
      ],
      "execution_count": 10,
      "outputs": [
        {
          "output_type": "execute_result",
          "data": {
            "text/plain": [
              "756"
            ]
          },
          "metadata": {
            "tags": []
          },
          "execution_count": 10
        }
      ]
    },
    {
      "cell_type": "code",
      "metadata": {
        "colab": {
          "base_uri": "https://localhost:8080/"
        },
        "id": "drejXGsQhzMW",
        "outputId": "295f791a-6498-4382-f86c-330b5a376262"
      },
      "source": [
        "#How many IPL seasons are present here in this dataset?\n",
        "data['Season'].unique()"
      ],
      "execution_count": 11,
      "outputs": [
        {
          "output_type": "execute_result",
          "data": {
            "text/plain": [
              "array(['IPL-2017', 'IPL-2008', 'IPL-2009', 'IPL-2010', 'IPL-2011',\n",
              "       'IPL-2012', 'IPL-2013', 'IPL-2014', 'IPL-2015', 'IPL-2016',\n",
              "       'IPL-2018', 'IPL-2019'], dtype=object)"
            ]
          },
          "metadata": {
            "tags": []
          },
          "execution_count": 11
        }
      ]
    },
    {
      "cell_type": "code",
      "metadata": {
        "colab": {
          "base_uri": "https://localhost:8080/"
        },
        "id": "5qFTlilviIwS",
        "outputId": "28fad93f-1ef5-46dc-f4ed-7abd5f2bcf8c"
      },
      "source": [
        "#Which IPL team won by scoring the maximum runs?\n",
        "data.iloc[data['win_by_runs'].idxmax()]"
      ],
      "execution_count": 12,
      "outputs": [
        {
          "output_type": "execute_result",
          "data": {
            "text/plain": [
              "id                               44\n",
              "Season                     IPL-2017\n",
              "city                          Delhi\n",
              "date                     06-05-2017\n",
              "team1                Mumbai Indians\n",
              "team2              Delhi Daredevils\n",
              "toss_winner        Delhi Daredevils\n",
              "toss_decision                 field\n",
              "result                       normal\n",
              "dl_applied                        0\n",
              "winner               Mumbai Indians\n",
              "win_by_runs                     146\n",
              "win_by_wickets                    0\n",
              "player_of_match         LMP Simmons\n",
              "venue              Feroz Shah Kotla\n",
              "umpire1                 Nitin Menon\n",
              "umpire2                   CK Nandan\n",
              "umpire3                         NaN\n",
              "Name: 43, dtype: object"
            ]
          },
          "metadata": {
            "tags": []
          },
          "execution_count": 12
        }
      ]
    },
    {
      "cell_type": "code",
      "metadata": {
        "colab": {
          "base_uri": "https://localhost:8080/"
        },
        "id": "lxLPaPsxibJw",
        "outputId": "2197109f-3e56-4b34-afe1-21a62f7ff186"
      },
      "source": [
        "#Which IPL team won by consuming maximum wickets?\n",
        "data.iloc[data['win_by_wickets'].idxmax()]"
      ],
      "execution_count": 13,
      "outputs": [
        {
          "output_type": "execute_result",
          "data": {
            "text/plain": [
              "id                                                      3\n",
              "Season                                           IPL-2017\n",
              "city                                               Rajkot\n",
              "date                                           07-04-2017\n",
              "team1                                       Gujarat Lions\n",
              "team2                               Kolkata Knight Riders\n",
              "toss_winner                         Kolkata Knight Riders\n",
              "toss_decision                                       field\n",
              "result                                             normal\n",
              "dl_applied                                              0\n",
              "winner                              Kolkata Knight Riders\n",
              "win_by_runs                                             0\n",
              "win_by_wickets                                         10\n",
              "player_of_match                                   CA Lynn\n",
              "venue              Saurashtra Cricket Association Stadium\n",
              "umpire1                                       Nitin Menon\n",
              "umpire2                                         CK Nandan\n",
              "umpire3                                               NaN\n",
              "Name: 2, dtype: object"
            ]
          },
          "metadata": {
            "tags": []
          },
          "execution_count": 13
        }
      ]
    },
    {
      "cell_type": "code",
      "metadata": {
        "colab": {
          "base_uri": "https://localhost:8080/"
        },
        "id": "wfHsaeBhi37z",
        "outputId": "cee6ffed-732d-472b-acde-9ab7fdb477ec"
      },
      "source": [
        "#Which IPL team won by taking minimum wickets?\n",
        "data.iloc[data['win_by_wickets'].idxmin()]"
      ],
      "execution_count": 14,
      "outputs": [
        {
          "output_type": "execute_result",
          "data": {
            "text/plain": [
              "id                                                         1\n",
              "Season                                              IPL-2017\n",
              "city                                               Hyderabad\n",
              "date                                              05-04-2017\n",
              "team1                                    Sunrisers Hyderabad\n",
              "team2                            Royal Challengers Bangalore\n",
              "toss_winner                      Royal Challengers Bangalore\n",
              "toss_decision                                          field\n",
              "result                                                normal\n",
              "dl_applied                                                 0\n",
              "winner                                   Sunrisers Hyderabad\n",
              "win_by_runs                                               35\n",
              "win_by_wickets                                             0\n",
              "player_of_match                                 Yuvraj Singh\n",
              "venue              Rajiv Gandhi International Stadium, Uppal\n",
              "umpire1                                          AY Dandekar\n",
              "umpire2                                             NJ Llong\n",
              "umpire3                                                  NaN\n",
              "Name: 0, dtype: object"
            ]
          },
          "metadata": {
            "tags": []
          },
          "execution_count": 14
        }
      ]
    },
    {
      "cell_type": "code",
      "metadata": {
        "colab": {
          "base_uri": "https://localhost:8080/",
          "height": 279
        },
        "id": "5j1NdsJAjRg_",
        "outputId": "b7c17201-233c-4f90-bc7a-458fdab89806"
      },
      "source": [
        "#Which IPL season consisted of the highest number of matches ever played?\n",
        "fig_dims = (20,4)\n",
        "fig, ax = plt.subplots(figsize=fig_dims)\n",
        "sns.countplot(x='Season', ax=ax, data=data)\n",
        "plt.show()"
      ],
      "execution_count": 15,
      "outputs": [
        {
          "output_type": "display_data",
          "data": {
            "image/png": "[encoded data removed]",
            "text/plain": [
              "<Figure size 1440x288 with 1 Axes>"
            ]
          },
          "metadata": {
            "tags": [],
            "needs_background": "light"
          }
        }
      ]
    },
    {
      "cell_type": "code",
      "metadata": {
        "colab": {
          "base_uri": "https://localhost:8080/",
          "height": 296
        },
        "id": "_b9jEm6Wj49X",
        "outputId": "230f6f0d-7278-40a2-ca82-d06c24d823d9"
      },
      "source": [
        "#which is the most successful IPL team with all the data at hand?\n",
        "data1 = data.winner.value_counts()\n",
        "sns.barplot(y = data1.index, x = data1)"
      ],
      "execution_count": 16,
      "outputs": [
        {
          "output_type": "execute_result",
          "data": {
            "text/plain": [
              "<matplotlib.axes._subplots.AxesSubplot at 0x7fe046fb9350>"
            ]
          },
          "metadata": {
            "tags": []
          },
          "execution_count": 16
        },
        {
          "output_type": "display_data",
          "data": {
            "image/png": "[encoded data removed]",
            "text/plain": [
              "<Figure size 432x288 with 1 Axes>"
            ]
          },
          "metadata": {
            "tags": [],
            "needs_background": "light"
          }
        }
      ]
    },
    {
      "cell_type": "code",
      "metadata": {
        "colab": {
          "base_uri": "https://localhost:8080/"
        },
        "id": "OMLGQfsRk2v9",
        "outputId": "67199050-828c-4157-e014-39ec6468352f"
      },
      "source": [
        "#What is the probability of winning a match if the toss was won?\n",
        "probability_of_win = data['toss_winner'] == data['winner']\n",
        "probability_of_win.groupby(probability_of_win).size()"
      ],
      "execution_count": 17,
      "outputs": [
        {
          "output_type": "execute_result",
          "data": {
            "text/plain": [
              "False    363\n",
              "True     393\n",
              "dtype: int64"
            ]
          },
          "metadata": {
            "tags": []
          },
          "execution_count": 17
        }
      ]
    },
    {
      "cell_type": "code",
      "metadata": {
        "colab": {
          "base_uri": "https://localhost:8080/",
          "height": 335
        },
        "id": "KBgQrxm0k_OU",
        "outputId": "a425ae00-cb58-4b23-86e9-00577030f3fc"
      },
      "source": [
        "sns.countplot(probability_of_win)"
      ],
      "execution_count": 18,
      "outputs": [
        {
          "output_type": "stream",
          "text": [
            "/usr/local/lib/python3.7/dist-packages/seaborn/_decorators.py:43: FutureWarning: Pass the following variable as a keyword arg: x. From version 0.12, the only valid positional argument will be `data`, and passing other arguments without an explicit keyword will result in an error or misinterpretation.\n",
            "  FutureWarning\n"
          ],
          "name": "stderr"
        },
        {
          "output_type": "execute_result",
          "data": {
            "text/plain": [
              "<matplotlib.axes._subplots.AxesSubplot at 0x7fe0460bce10>"
            ]
          },
          "metadata": {
            "tags": []
          },
          "execution_count": 18
        },
        {
          "output_type": "display_data",
          "data": {
            "image/png": "[encoded data removed]",
            "text/plain": [
              "<Figure size 432x288 with 1 Axes>"
            ]
          },
          "metadata": {
            "tags": [],
            "needs_background": "light"
          }
        }
      ]
    },
    {
      "cell_type": "code",
      "metadata": {
        "colab": {
          "base_uri": "https://localhost:8080/"
        },
        "id": "O0-B1YXElDjB",
        "outputId": "bc8119db-51aa-400f-d33f-a8b37ae949e0"
      },
      "source": [
        "#Setting a higher row width\n",
        "pd.set_option('max_rows', 99999)\n",
        "pd.set_option('max_colwidth', 400)\n",
        "pd.describe_option('max_colwidth')"
      ],
      "execution_count": 19,
      "outputs": [
        {
          "output_type": "stream",
          "text": [
            "display.max_colwidth : int or None\n",
            "    The maximum width in characters of a column in the repr of\n",
            "    a pandas data structure. When the column overflows, a \"...\"\n",
            "    placeholder is embedded in the output. A 'None' value means unlimited.\n",
            "    [default: 50] [currently: 400]\n"
          ],
          "name": "stdout"
        }
      ]
    },
    {
      "cell_type": "code",
      "metadata": {
        "colab": {
          "base_uri": "https://localhost:8080/"
        },
        "id": "SIh-I_4KlRhy",
        "outputId": "854e4fa6-4c99-42f7-9c77-c33998682ffa"
      },
      "source": [
        "#Highest wins by teams per season\n",
        "data.groupby('Season')['winner'].value_counts()"
      ],
      "execution_count": 20,
      "outputs": [
        {
          "output_type": "execute_result",
          "data": {
            "text/plain": [
              "Season    winner                     \n",
              "IPL-2008  Rajasthan Royals               13\n",
              "          Kings XI Punjab                10\n",
              "          Chennai Super Kings             9\n",
              "          Delhi Daredevils                7\n",
              "          Mumbai Indians                  7\n",
              "          Kolkata Knight Riders           6\n",
              "          Royal Challengers Bangalore     4\n",
              "          Deccan Chargers                 2\n",
              "IPL-2009  Delhi Daredevils               10\n",
              "          Deccan Chargers                 9\n",
              "          Royal Challengers Bangalore     9\n",
              "          Chennai Super Kings             8\n",
              "          Kings XI Punjab                 7\n",
              "          Rajasthan Royals                6\n",
              "          Mumbai Indians                  5\n",
              "          Kolkata Knight Riders           3\n",
              "IPL-2010  Mumbai Indians                 11\n",
              "          Chennai Super Kings             9\n",
              "          Deccan Chargers                 8\n",
              "          Royal Challengers Bangalore     8\n",
              "          Delhi Daredevils                7\n",
              "          Kolkata Knight Riders           7\n",
              "          Rajasthan Royals                6\n",
              "          Kings XI Punjab                 4\n",
              "IPL-2011  Chennai Super Kings            11\n",
              "          Mumbai Indians                 10\n",
              "          Royal Challengers Bangalore    10\n",
              "          Kolkata Knight Riders           8\n",
              "          Kings XI Punjab                 7\n",
              "          Deccan Chargers                 6\n",
              "          Kochi Tuskers Kerala            6\n",
              "          Rajasthan Royals                6\n",
              "          Delhi Daredevils                4\n",
              "          Pune Warriors                   4\n",
              "IPL-2012  Kolkata Knight Riders          12\n",
              "          Delhi Daredevils               11\n",
              "          Chennai Super Kings            10\n",
              "          Mumbai Indians                 10\n",
              "          Kings XI Punjab                 8\n",
              "          Royal Challengers Bangalore     8\n",
              "          Rajasthan Royals                7\n",
              "          Deccan Chargers                 4\n",
              "          Pune Warriors                   4\n",
              "IPL-2013  Mumbai Indians                 13\n",
              "          Chennai Super Kings            12\n",
              "          Rajasthan Royals               11\n",
              "          Sunrisers Hyderabad            10\n",
              "          Royal Challengers Bangalore     9\n",
              "          Kings XI Punjab                 8\n",
              "          Kolkata Knight Riders           6\n",
              "          Pune Warriors                   4\n",
              "          Delhi Daredevils                3\n",
              "IPL-2014  Kings XI Punjab                12\n",
              "          Kolkata Knight Riders          11\n",
              "          Chennai Super Kings            10\n",
              "          Mumbai Indians                  7\n",
              "          Rajasthan Royals                7\n",
              "          Sunrisers Hyderabad             6\n",
              "          Royal Challengers Bangalore     5\n",
              "          Delhi Daredevils                2\n",
              "IPL-2015  Chennai Super Kings            10\n",
              "          Mumbai Indians                 10\n",
              "          Royal Challengers Bangalore     8\n",
              "          Kolkata Knight Riders           7\n",
              "          Rajasthan Royals                7\n",
              "          Sunrisers Hyderabad             7\n",
              "          Delhi Daredevils                5\n",
              "          Kings XI Punjab                 3\n",
              "IPL-2016  Sunrisers Hyderabad            11\n",
              "          Gujarat Lions                   9\n",
              "          Royal Challengers Bangalore     9\n",
              "          Kolkata Knight Riders           8\n",
              "          Delhi Daredevils                7\n",
              "          Mumbai Indians                  7\n",
              "          Rising Pune Supergiants         5\n",
              "          Kings XI Punjab                 4\n",
              "IPL-2017  Mumbai Indians                 12\n",
              "          Rising Pune Supergiant         10\n",
              "          Kolkata Knight Riders           9\n",
              "          Sunrisers Hyderabad             8\n",
              "          Kings XI Punjab                 7\n",
              "          Delhi Daredevils                6\n",
              "          Gujarat Lions                   4\n",
              "          Royal Challengers Bangalore     3\n",
              "IPL-2018  Chennai Super Kings            11\n",
              "          Sunrisers Hyderabad            10\n",
              "          Kolkata Knight Riders           9\n",
              "          Rajasthan Royals                7\n",
              "          Kings XI Punjab                 6\n",
              "          Mumbai Indians                  6\n",
              "          Royal Challengers Bangalore     6\n",
              "          Delhi Daredevils                5\n",
              "IPL-2019  Mumbai Indians                 11\n",
              "          Chennai Super Kings            10\n",
              "          Delhi Capitals                 10\n",
              "          Kings XI Punjab                 6\n",
              "          Kolkata Knight Riders           6\n",
              "          Sunrisers Hyderabad             6\n",
              "          Rajasthan Royals                5\n",
              "          Royal Challengers Bangalore     5\n",
              "Name: winner, dtype: int64"
            ]
          },
          "metadata": {
            "tags": []
          },
          "execution_count": 20
        }
      ]
    },
    {
      "cell_type": "code",
      "metadata": {
        "colab": {
          "base_uri": "https://localhost:8080/"
        },
        "id": "RU5fX09AlW6Z",
        "outputId": "4a50f04c-6cc4-4727-b75d-3eeb4b927756"
      },
      "source": [
        "data['toss_decision'].value_counts()"
      ],
      "execution_count": 21,
      "outputs": [
        {
          "output_type": "execute_result",
          "data": {
            "text/plain": [
              "field    463\n",
              "bat      293\n",
              "Name: toss_decision, dtype: int64"
            ]
          },
          "metadata": {
            "tags": []
          },
          "execution_count": 21
        }
      ]
    },
    {
      "cell_type": "code",
      "metadata": {
        "colab": {
          "base_uri": "https://localhost:8080/"
        },
        "id": "AWkE8t_FlaY-",
        "outputId": "12ce1536-18b2-4b9f-8360-25795f4c97dd"
      },
      "source": [
        "#Man of the match - Highest to lowest (in won matches)\n",
        "data['player_of_match'].value_counts()"
      ],
      "execution_count": 22,
      "outputs": [
        {
          "output_type": "execute_result",
          "data": {
            "text/plain": [
              "CH Gayle             21\n",
              "AB de Villiers       20\n",
              "DA Warner            17\n",
              "MS Dhoni             17\n",
              "RG Sharma            17\n",
              "YK Pathan            16\n",
              "SR Watson            15\n",
              "SK Raina             14\n",
              "G Gambhir            13\n",
              "AM Rahane            12\n",
              "MEK Hussey           12\n",
              "V Kohli              12\n",
              "AD Russell           11\n",
              "V Sehwag             11\n",
              "A Mishra             11\n",
              "DR Smith             11\n",
              "JH Kallis            10\n",
              "KA Pollard           10\n",
              "SP Narine             9\n",
              "AT Rayudu             9\n",
              "SE Marsh              9\n",
              "UT Yadav              8\n",
              "SR Tendulkar          8\n",
              "RA Jadeja             8\n",
              "Harbhajan Singh       8\n",
              "AC Gilchrist          7\n",
              "Rashid Khan           7\n",
              "RV Uthappa            7\n",
              "M Vijay               6\n",
              "HH Pandya             6\n",
              "BJ Hodge              6\n",
              "SL Malinga            6\n",
              "S Dhawan              6\n",
              "RR Pant               6\n",
              "A Nehra               6\n",
              "JC Buttler            5\n",
              "Sandeep Sharma        5\n",
              "DW Steyn              5\n",
              "SV Samson             5\n",
              "KC Sangakkara         5\n",
              "JP Faulkner           5\n",
              "SC Ganguly            5\n",
              "DPMD Jayawardene      5\n",
              "PA Patel              5\n",
              "JD Unadkat            5\n",
              "B Kumar               5\n",
              "GJ Maxwell            5\n",
              "BB McCullum           5\n",
              "JJ Bumrah             5\n",
              "Yuvraj Singh          5\n",
              "SPD Smith             5\n",
              "AJ Finch              5\n",
              "JP Duminy             4\n",
              "KD Karthik            4\n",
              "MK Pandey             4\n",
              "NM Coulter-Nile       4\n",
              "AR Patel              4\n",
              "KH Pandya             4\n",
              "N Rana                4\n",
              "ML Hayden             4\n",
              "KL Rahul              4\n",
              "CA Lynn               4\n",
              "SS Iyer               4\n",
              "SK Warne              4\n",
              "F du Plessis          4\n",
              "L Balaji              3\n",
              "PP Chawla             3\n",
              "R Vinay Kumar         3\n",
              "KP Pietersen          3\n",
              "WP Saha               3\n",
              "KK Nair               3\n",
              "LMP Simmons           3\n",
              "A Symonds             3\n",
              "DJ Bravo              3\n",
              "CJ Anderson           3\n",
              "Mandeep Singh         3\n",
              "M Vohra               3\n",
              "DA Miller             3\n",
              "MK Tiwary             3\n",
              "KS Williamson         3\n",
              "A Kumble              3\n",
              "BA Stokes             3\n",
              "LRPL Taylor           3\n",
              "PC Valthaty           2\n",
              "PV Tambe              2\n",
              "R Dravid              2\n",
              "MM Patel              2\n",
              "Harmeet Singh         2\n",
              "SK Trivedi            2\n",
              "DJ Hussey             2\n",
              "AJ Tye                2\n",
              "AS Yadav              2\n",
              "GC Smith              2\n",
              "MC Henriques          2\n",
              "B Lee                 2\n",
              "AS Rajpoot            2\n",
              "Shakib Al Hasan       2\n",
              "Azhar Mahmood         2\n",
              "MV Boucher            2\n",
              "CH Morris             2\n",
              "M Muralitharan        2\n",
              "VR Aaron              2\n",
              "AB Dinda              2\n",
              "P Kumar               2\n",
              "DE Bollinger          2\n",
              "MA Agarwal            2\n",
              "MP Stoinis            2\n",
              "ST Jayasuriya         2\n",
              "P Negi                2\n",
              "R Ashwin              2\n",
              "R Sharma              2\n",
              "BW Hilfenhaus         2\n",
              "M Ntini               2\n",
              "HM Amla               2\n",
              "MG Johnson            2\n",
              "Iqbal Abdulla         2\n",
              "KM Jadhav             2\n",
              "HV Patel              2\n",
              "IK Pathan             2\n",
              "S Gopal               2\n",
              "GH Vihari             2\n",
              "MJ McClenaghan        2\n",
              "SM Pollock            2\n",
              "M Morkel              2\n",
              "JA Morkel             2\n",
              "I Sharma              2\n",
              "Sohail Tanvir         2\n",
              "J Bairstow            2\n",
              "MM Sharma             2\n",
              "TA Boult              1\n",
              "BA Bhatt              1\n",
              "J Archer              1\n",
              "S Nadeem              1\n",
              "A Zampa               1\n",
              "SB Jakati             1\n",
              "S Hetmyer             1\n",
              "RA Tripathi           1\n",
              "DL Chahar             1\n",
              "MA Starc              1\n",
              "WPUJC Vaas            1\n",
              "MJ Lumb               1\n",
              "PP Ojha               1\n",
              "MS Gony               1\n",
              "K Ahmed               1\n",
              "Z Khan                1\n",
              "SM Katich             1\n",
              "TG Southee            1\n",
              "P Parameswaran        1\n",
              "M Ur Rahman           1\n",
              "AD Mascarenhas        1\n",
              "B Stanlake            1\n",
              "S Curran              1\n",
              "HH Gibbs              1\n",
              "S Gill                1\n",
              "GJ Bailey             1\n",
              "RS Bopara             1\n",
              "H Gurney              1\n",
              "GD McGrath            1\n",
              "PD Collingwood        1\n",
              "RE Levi               1\n",
              "K Paul                1\n",
              "L Ngidi               1\n",
              "AC Voges              1\n",
              "JD Ryder              1\n",
              "Mohammed Shami        1\n",
              "Shoaib Akhtar         1\n",
              "EJG Morgan            1\n",
              "SB Wagh               1\n",
              "CL White              1\n",
              "R Bhatia              1\n",
              "K Rabada              1\n",
              "J Botha               1\n",
              "CR Brathwaite         1\n",
              "MF Maharoof           1\n",
              "SA Asnodkar           1\n",
              "S Sohal               1\n",
              "A Joseph              1\n",
              "Q de Kock             1\n",
              "Kuldeep Yadav         1\n",
              "S Anirudha            1\n",
              "S Badrinath           1\n",
              "SW Billings           1\n",
              "Washington Sundar     1\n",
              "S Sreesanth           1\n",
              "KK Cooper             1\n",
              "MR Marsh              1\n",
              "Ishan Kishan          1\n",
              "S Aravind             1\n",
              "JJ Roy                1\n",
              "TL Suman              1\n",
              "YS Chahal             1\n",
              "MN Samuels            1\n",
              "Imran Tahir           1\n",
              "TM Dilshan            1\n",
              "M Kartik              1\n",
              "LR Shukla             1\n",
              "BCJ Cutting           1\n",
              "Mohammed Siraj        1\n",
              "P Shaw                1\n",
              "SP Goswami            1\n",
              "NV Ojha               1\n",
              "LH Ferguson           1\n",
              "MS Bisla              1\n",
              "A Chandila            1\n",
              "KV Sharma             1\n",
              "DL Vettori            1\n",
              "A Singh               1\n",
              "MD Mishra             1\n",
              "R McLaren             1\n",
              "KMDN Kulasekara       1\n",
              "SA Yadav              1\n",
              "Mustafizur Rahman     1\n",
              "RJ Harris             1\n",
              "JDP Oram              1\n",
              "CRD Fernando          1\n",
              "DJG Sammy             1\n",
              "AA Jhunjhunwala       1\n",
              "DJ Hooda              1\n",
              "Umar Gul              1\n",
              "AP Tare               1\n",
              "JEC Franklin          1\n",
              "RP Singh              1\n",
              "AD Mathews            1\n",
              "DP Nannes             1\n",
              "LJ Wright             1\n",
              "J Theron              1\n",
              "Name: player_of_match, dtype: int64"
            ]
          },
          "metadata": {
            "tags": []
          },
          "execution_count": 22
        }
      ]
    },
    {
      "cell_type": "code",
      "metadata": {
        "colab": {
          "base_uri": "https://localhost:8080/"
        },
        "id": "JKv6nDu8le8w",
        "outputId": "2bb1652e-55a5-42ee-f630-fcd6f96c64db"
      },
      "source": [
        "#In which city were the number of matches played?\n",
        "data['city'].value_counts()"
      ],
      "execution_count": 23,
      "outputs": [
        {
          "output_type": "execute_result",
          "data": {
            "text/plain": [
              "Mumbai            101\n",
              "Kolkata            77\n",
              "Delhi              74\n",
              "Bangalore          66\n",
              "Hyderabad          64\n",
              "Chennai            57\n",
              "Jaipur             47\n",
              "Chandigarh         46\n",
              "Pune               38\n",
              "Durban             15\n",
              "Bengaluru          14\n",
              "Visakhapatnam      13\n",
              "Centurion          12\n",
              "Ahmedabad          12\n",
              "Mohali             10\n",
              "Rajkot             10\n",
              "Dharamsala          9\n",
              "Indore              9\n",
              "Johannesburg        8\n",
              "Cuttack             7\n",
              "Abu Dhabi           7\n",
              "Port Elizabeth      7\n",
              "Ranchi              7\n",
              "Cape Town           7\n",
              "Raipur              6\n",
              "Sharjah             6\n",
              "Kochi               5\n",
              "Kanpur              4\n",
              "Kimberley           3\n",
              "Nagpur              3\n",
              "East London         3\n",
              "Bloemfontein        2\n",
              "Name: city, dtype: int64"
            ]
          },
          "metadata": {
            "tags": []
          },
          "execution_count": 23
        }
      ]
    },
    {
      "cell_type": "code",
      "metadata": {
        "id": "vNCEwe8flj1A"
      },
      "source": [
        ""
      ],
      "execution_count": 23,
      "outputs": []
    }
  ]
}